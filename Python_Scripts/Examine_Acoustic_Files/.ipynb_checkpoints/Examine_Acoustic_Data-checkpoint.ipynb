version https://git-lfs.github.com/spec/v1
oid sha256:5bcd387ef21d873d30befdc9880406f83a51a33f8b9a9d41bf5ec3ba918f8b81
size 23915

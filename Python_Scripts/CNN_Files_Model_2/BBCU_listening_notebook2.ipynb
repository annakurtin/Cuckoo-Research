version https://git-lfs.github.com/spec/v1
oid sha256:97e4195467ef4c65e9b31d98d6aac030968517d5e1cd7ac2534ca304e6440d82
size 27365
